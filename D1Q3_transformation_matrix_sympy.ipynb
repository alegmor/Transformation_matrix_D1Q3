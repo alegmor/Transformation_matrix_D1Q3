{
 "cells": [
  {
   "cell_type": "markdown",
   "id": "83788d49-1ad5-4a97-8ec6-b2d105e9824d",
   "metadata": {},
   "source": [
    "# D1Q3\n",
    "\n",
    "$\\mathcal{M}{\\lambda} =  (\\sqrt{\\theta}c_{i}+u)^m $"
   ]
  },
  {
   "cell_type": "code",
   "execution_count": 5,
   "id": "829141cd-ac53-4ff1-8ef2-6fa277c2b00c",
   "metadata": {},
   "outputs": [],
   "source": [
    "import sympy as sp\n",
    "from sympy import symbols, sqrt, Matrix, init_printing, Symbol, latex, zeros, Rational\n",
    "from sympy import *\n",
    "init_printing()  \n",
    "\n",
    "th,thn, ux,un,x, dt, lx = symbols('\\\\theta \\\\theta_n u u_n x dt lx')\n",
    "f0, f1, f2 = symbols('f_0 f_1 f_2')"
   ]
  },
  {
   "cell_type": "code",
   "execution_count": 6,
   "id": "38b532e8-7355-4df2-b6f5-f6500a8006cd",
   "metadata": {},
   "outputs": [
    {
     "data": {
      "text/latex": [
       "$\\displaystyle \\left[\\begin{matrix}1 & 1 & 1\\\\u & \\sqrt{\\theta} + u & - \\sqrt{\\theta} + u\\\\u^{2} & \\left(\\sqrt{\\theta} + u\\right)^{2} & \\left(- \\sqrt{\\theta} + u\\right)^{2}\\end{matrix}\\right]$"
      ],
      "text/plain": [
       "⎡1           1                   1         ⎤\n",
       "⎢                                          ⎥\n",
       "⎢       ________             ________      ⎥\n",
       "⎢u    ╲╱ \\theta  + u     - ╲╱ \\theta  + u  ⎥\n",
       "⎢                                          ⎥\n",
       "⎢                    2                    2⎥\n",
       "⎢ 2  ⎛  ________    ⎞   ⎛    ________    ⎞ ⎥\n",
       "⎣u   ⎝╲╱ \\theta  + u⎠   ⎝- ╲╱ \\theta  + u⎠ ⎦"
      ]
     },
     "metadata": {},
     "output_type": "display_data"
    }
   ],
   "source": [
    "\n",
    "Q     = 3\n",
    "cx    = [0, 1, -1]\n",
    "pow_x = [0,1,2] \n",
    "\n",
    "M = zeros(Q, Q)\n",
    "\n",
    "for i in range(Q):\n",
    "    for j in range(Q):\n",
    "        M[i, j] = ((sqrt(th) * cx[j] + ux)**pow_x[i]) \n",
    "\n",
    "display(M)"
   ]
  },
  {
   "cell_type": "code",
   "execution_count": 7,
   "id": "9354f936-a48c-44f8-8ae1-51eabd522c92",
   "metadata": {},
   "outputs": [
    {
     "data": {
      "text/latex": [
       "$\\displaystyle \\left[\\begin{matrix}\\frac{\\theta - u^{2}}{\\theta} & \\frac{2 u}{\\theta} & - \\frac{1}{\\theta}\\\\\\frac{u^{2}}{2 \\theta} - \\frac{u}{2 \\sqrt{\\theta}} & - \\frac{u}{\\theta} + \\frac{1}{2 \\sqrt{\\theta}} & \\frac{1}{2 \\theta}\\\\\\frac{u^{2}}{2 \\theta} + \\frac{u}{2 \\sqrt{\\theta}} & - \\frac{u}{\\theta} - \\frac{1}{2 \\sqrt{\\theta}} & \\frac{1}{2 \\theta}\\end{matrix}\\right]$"
      ],
      "text/plain": [
       "⎡                2                                         ⎤\n",
       "⎢      \\theta - u                  2⋅u               -1    ⎥\n",
       "⎢      ───────────                ──────            ────── ⎥\n",
       "⎢         \\theta                  \\theta            \\theta ⎥\n",
       "⎢                                                          ⎥\n",
       "⎢    2                                                     ⎥\n",
       "⎢   u            u            u           1           1    ⎥\n",
       "⎢──────── - ────────────  - ────── + ────────────  ────────⎥\n",
       "⎢2⋅\\theta       ________    \\theta       ________  2⋅\\theta⎥\n",
       "⎢           2⋅╲╱ \\theta              2⋅╲╱ \\theta           ⎥\n",
       "⎢                                                          ⎥\n",
       "⎢    2                                                     ⎥\n",
       "⎢   u            u            u           1           1    ⎥\n",
       "⎢──────── + ────────────  - ────── - ────────────  ────────⎥\n",
       "⎢2⋅\\theta       ________    \\theta       ________  2⋅\\theta⎥\n",
       "⎣           2⋅╲╱ \\theta              2⋅╲╱ \\theta           ⎦"
      ]
     },
     "execution_count": 7,
     "metadata": {},
     "output_type": "execute_result"
    }
   ],
   "source": [
    "Minv = M.inv()\n",
    "simplify(Minv)"
   ]
  },
  {
   "cell_type": "code",
   "execution_count": 8,
   "id": "8d2ce0da-b3d9-4327-b962-4802e72516d6",
   "metadata": {},
   "outputs": [
    {
     "data": {
      "text/latex": [
       "$\\displaystyle \\left[\\begin{matrix}\\frac{\\theta_{n} - u_{n}^{2}}{\\theta_{n}} & \\frac{2 u_{n}}{\\theta_{n}} & - \\frac{1}{\\theta_{n}}\\\\\\frac{u_{n}^{2}}{2 \\theta_{n}} - \\frac{u_{n}}{2 \\sqrt{\\theta_{n}}} & - \\frac{u_{n}}{\\theta_{n}} + \\frac{1}{2 \\sqrt{\\theta_{n}}} & \\frac{1}{2 \\theta_{n}}\\\\\\frac{u_{n}^{2}}{2 \\theta_{n}} + \\frac{u_{n}}{2 \\sqrt{\\theta_{n}}} & - \\frac{u_{n}}{\\theta_{n}} - \\frac{1}{2 \\sqrt{\\theta_{n}}} & \\frac{1}{2 \\theta_{n}}\\end{matrix}\\right]$"
      ],
      "text/plain": [
       "⎡                  2                                            ⎤\n",
       "⎢      \\thetaₙ - uₙ                    2⋅uₙ               -1    ⎥\n",
       "⎢      ─────────────                 ───────            ─────── ⎥\n",
       "⎢         \\thetaₙ                    \\thetaₙ            \\thetaₙ ⎥\n",
       "⎢                                                               ⎥\n",
       "⎢     2                                                         ⎥\n",
       "⎢   uₙ             uₙ            uₙ           1            1    ⎥\n",
       "⎢───────── - ─────────────  - ─────── + ─────────────  ─────────⎥\n",
       "⎢2⋅\\thetaₙ       _________    \\thetaₙ       _________  2⋅\\thetaₙ⎥\n",
       "⎢            2⋅╲╱ \\thetaₙ               2⋅╲╱ \\thetaₙ            ⎥\n",
       "⎢                                                               ⎥\n",
       "⎢     2                                                         ⎥\n",
       "⎢   uₙ             uₙ            uₙ           1            1    ⎥\n",
       "⎢───────── + ─────────────  - ─────── - ─────────────  ─────────⎥\n",
       "⎢2⋅\\thetaₙ       _________    \\thetaₙ       _________  2⋅\\thetaₙ⎥\n",
       "⎣            2⋅╲╱ \\thetaₙ               2⋅╲╱ \\thetaₙ            ⎦"
      ]
     },
     "execution_count": 8,
     "metadata": {},
     "output_type": "execute_result"
    }
   ],
   "source": [
    "Minv_n = Minv.subs({ux: un, th: thn})\n",
    "simplify(Minv_n)"
   ]
  },
  {
   "cell_type": "code",
   "execution_count": 9,
   "id": "e3ccff0d-2096-4890-bd71-a454900973e8",
   "metadata": {},
   "outputs": [
    {
     "data": {
      "text/latex": [
       "$\\displaystyle \\left[\\begin{matrix}1 & 1 & 1\\\\1 & 2 & 0\\\\1 & 4 & 0\\end{matrix}\\right]$"
      ],
      "text/plain": [
       "⎡1  1  1⎤\n",
       "⎢       ⎥\n",
       "⎢1  2  0⎥\n",
       "⎢       ⎥\n",
       "⎣1  4  0⎦"
      ]
     },
     "metadata": {},
     "output_type": "display_data"
    }
   ],
   "source": [
    "th, ux = symbols('\\\\theta u ')\n",
    "\n",
    "Q     = 3\n",
    "cx    = [0, 1, -1]\n",
    "pow_x = [0,1,2] \n",
    "\n",
    "M = zeros(Q, Q)\n",
    "\n",
    "for i in range(Q):\n",
    "    for j in range(Q):\n",
    "        M[i, j] = ((sqrt(th) * cx[j] + ux)**pow_x[i]) \n",
    "\n",
    "\n",
    "\n",
    "M_val = M.subs({th: 1, ux: 1})\n",
    "\n",
    "display(M_val)"
   ]
  },
  {
   "cell_type": "code",
   "execution_count": 10,
   "id": "1bb74191-30da-4a4b-b5dc-6ccfad69a31e",
   "metadata": {},
   "outputs": [
    {
     "data": {
      "text/latex": [
       "$\\displaystyle \\left[\\begin{matrix}0 & 2 & -1\\\\0 & - \\frac{1}{2} & \\frac{1}{2}\\\\1 & - \\frac{3}{2} & \\frac{1}{2}\\end{matrix}\\right]$"
      ],
      "text/plain": [
       "⎡0   2    -1 ⎤\n",
       "⎢            ⎥\n",
       "⎢0  -1/2  1/2⎥\n",
       "⎢            ⎥\n",
       "⎣1  -3/2  1/2⎦"
      ]
     },
     "metadata": {},
     "output_type": "display_data"
    }
   ],
   "source": [
    "Minv = expand(M_val.inv())\n",
    "display(Minv)"
   ]
  },
  {
   "cell_type": "code",
   "execution_count": 11,
   "id": "47e194a7-0947-4350-86fd-4c725b03c8ae",
   "metadata": {},
   "outputs": [
    {
     "data": {
      "text/latex": [
       "$\\displaystyle \\left[\\begin{matrix}1 & 0 & 0\\\\0 & 1 & 0\\\\0 & 0 & 1\\end{matrix}\\right]$"
      ],
      "text/plain": [
       "⎡1  0  0⎤\n",
       "⎢       ⎥\n",
       "⎢0  1  0⎥\n",
       "⎢       ⎥\n",
       "⎣0  0  1⎦"
      ]
     },
     "execution_count": 11,
     "metadata": {},
     "output_type": "execute_result"
    }
   ],
   "source": [
    "M_val*Minv"
   ]
  },
  {
   "cell_type": "markdown",
   "id": "92d73552-1bd9-448f-83df-c244dc7ec362",
   "metadata": {},
   "source": [
    "The transformation is a linear operation, based on the moments matching\n",
    "\n",
    "$$f_k^{\\lambda'} = \\mathcal{M}_{\\lambda'}^{-1} \\mathcal{M}_{\\lambda}f^\\lambda = \\mathcal{G}_\\lambda^{\\lambda'} f^\\lambda $$"
   ]
  },
  {
   "cell_type": "markdown",
   "id": "658c8cfd-e3db-4102-9c63-f7bfa91a081b",
   "metadata": {},
   "source": [
    "### Interpolation\n",
    "\n",
    " The departure point will be located on an off-grid points $x_d =x-v_i \\delta t$, where $x$ is a grid point.\n",
    "Depending on the order of the interpolation, a set of grid point $x_p$ around the departure point will be used for the interpolation process.\n",
    "\n",
    "We assume that the first point of this stencil is located in the distance $n \\delta x$ from the monitoring point $x$ such that $x_0= x-\\delta x$ "
   ]
  },
  {
   "cell_type": "code",
   "execution_count": 12,
   "id": "d84f7aee-0dc8-4b57-9b18-c91789330b4d",
   "metadata": {},
   "outputs": [],
   "source": [
    "#the departure point xd  does not necessarily coincide with a grid node\n",
    "#The populations at xd need to be reconstructed with an interpolation scheme\n",
    "#Study lagrange interpolation\n"
   ]
  },
  {
   "cell_type": "code",
   "execution_count": 20,
   "id": "7f24320c-d1fc-41b5-93cb-bb8cc46666bc",
   "metadata": {},
   "outputs": [
    {
     "data": {
      "text/latex": [
       "$\\displaystyle \\left[\\begin{matrix}- dt u + x\\\\- dt \\left(\\sqrt{\\theta} + u\\right) + x\\\\- dt \\left(- \\sqrt{\\theta} + u\\right) + x\\end{matrix}\\right]$"
      ],
      "text/plain": [
       "⎡         -dt⋅u + x         ⎤\n",
       "⎢                           ⎥\n",
       "⎢      ⎛  ________    ⎞     ⎥\n",
       "⎢ - dt⋅⎝╲╱ \\theta  + u⎠ + x ⎥\n",
       "⎢                           ⎥\n",
       "⎢     ⎛    ________    ⎞    ⎥\n",
       "⎣- dt⋅⎝- ╲╱ \\theta  + u⎠ + x⎦"
      ]
     },
     "metadata": {},
     "output_type": "display_data"
    }
   ],
   "source": [
    "vi = Matrix.zeros(Q, 1)\n",
    "\n",
    "for j in range(Q):\n",
    "    vi[j] = sqrt(th) * cx[j] + ux\n",
    "\n",
    "xd = Matrix(Q, 1, lambda i, j: x - vi[i] * dt)\n",
    "\n",
    "display(xd)"
   ]
  }
 ],
 "metadata": {
  "kernelspec": {
   "display_name": "Python 3 (ipykernel)",
   "language": "python",
   "name": "python3"
  },
  "language_info": {
   "codemirror_mode": {
    "name": "ipython",
    "version": 3
   },
   "file_extension": ".py",
   "mimetype": "text/x-python",
   "name": "python",
   "nbconvert_exporter": "python",
   "pygments_lexer": "ipython3",
   "version": "3.8.10"
  }
 },
 "nbformat": 4,
 "nbformat_minor": 5
}
